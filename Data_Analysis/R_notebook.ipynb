{
  "nbformat": 4,
  "nbformat_minor": 0,
  "metadata": {
    "colab": {
      "name": "R_notebook.ipynb",
      "provenance": [],
      "collapsed_sections": []
    },
    "kernelspec": {
      "name": "ir",
      "display_name": "R"
    }
  },
  "cells": [
    {
      "cell_type": "code",
      "metadata": {
        "colab": {
          "base_uri": "https://localhost:8080/",
          "height": 34
        },
        "id": "Y6yiuL2Psqqa",
        "outputId": "68bbb497-5c09-4265-e9b4-a09b93dcea34"
      },
      "source": [
        "R.version.string"
      ],
      "execution_count": null,
      "outputs": [
        {
          "output_type": "display_data",
          "data": {
            "text/plain": [
              "[1] \"R version 4.0.4 (2021-02-15)\""
            ],
            "text/latex": "'R version 4.0.4 (2021-02-15)'",
            "text/markdown": "'R version 4.0.4 (2021-02-15)'",
            "text/html": [
              "'R version 4.0.4 (2021-02-15)'"
            ]
          },
          "metadata": {
            "tags": []
          }
        }
      ]
    },
    {
      "cell_type": "code",
      "metadata": {
        "colab": {
          "base_uri": "https://localhost:8080/"
        },
        "id": "7JiI-zaNthbk",
        "outputId": "bc5a1d69-5a55-405c-aff5-9da28dd807b5"
      },
      "source": [
        "apple <- c('red','green',\"yellow\")\r\n",
        "print(apple)"
      ],
      "execution_count": null,
      "outputs": [
        {
          "output_type": "stream",
          "text": [
            "[1] \"red\"    \"green\"  \"yellow\"\n"
          ],
          "name": "stdout"
        }
      ]
    },
    {
      "cell_type": "markdown",
      "metadata": {
        "id": "HQEVEpBYg5ym"
      },
      "source": [
        "# **Making Function in R**\r\n",
        "\r\n",
        "**If- else statement explained**\r\n",
        "\r\n",
        "*Demo*"
      ]
    },
    {
      "cell_type": "code",
      "metadata": {
        "id": "tduABhaOhR7Q"
      },
      "source": [
        "mystreynum <- 151"
      ],
      "execution_count": null,
      "outputs": []
    },
    {
      "cell_type": "code",
      "metadata": {
        "id": "AQSdlcPE9wQK",
        "colab": {
          "base_uri": "https://localhost:8080/"
        },
        "outputId": "fdcd8dbd-4579-43f8-9795-8001735f0fa2"
      },
      "source": [
        "if (mystreynum > 100){\r\n",
        "  print(\"The number is quite big\")\r\n",
        "}"
      ],
      "execution_count": null,
      "outputs": [
        {
          "output_type": "stream",
          "text": [
            "[1] \"The number is quite big\"\n"
          ],
          "name": "stdout"
        }
      ]
    },
    {
      "cell_type": "code",
      "metadata": {
        "id": "ddt_UJAEi3eG"
      },
      "source": [
        "mystreynum <- 25"
      ],
      "execution_count": null,
      "outputs": []
    },
    {
      "cell_type": "code",
      "metadata": {
        "colab": {
          "base_uri": "https://localhost:8080/"
        },
        "id": "kHwyRM07ippG",
        "outputId": "37c3750d-fafb-420f-f0b6-197718478187"
      },
      "source": [
        "if (mystreynum > 100){\r\n",
        "  print(\"The number is quite big\")\r\n",
        "} else {\r\n",
        "  print(\"The number is not terriblly big\")\r\n",
        "}"
      ],
      "execution_count": null,
      "outputs": [
        {
          "output_type": "stream",
          "text": [
            "[1] \"The number is not terriblly big\"\n"
          ],
          "name": "stdout"
        }
      ]
    },
    {
      "cell_type": "code",
      "metadata": {
        "id": "bHtOzgcyjD5D"
      },
      "source": [
        "mystreynum <- 61"
      ],
      "execution_count": null,
      "outputs": []
    },
    {
      "cell_type": "code",
      "metadata": {
        "colab": {
          "base_uri": "https://localhost:8080/"
        },
        "id": "9h8gJY07jB5y",
        "outputId": "c5c01b0c-e1eb-4a52-f4df-ed40cb10a253"
      },
      "source": [
        "if (mystreynum > 100){\r\n",
        "  print(\"The number is quite big\")\r\n",
        "} else if (mystreynum > 50){\r\n",
        "  print(\"The number is somewhat large\")\r\n",
        "}else {\r\n",
        "  print(\"The number is not terriblly big\")\r\n",
        "}"
      ],
      "execution_count": null,
      "outputs": [
        {
          "output_type": "stream",
          "text": [
            "[1] \"The number is somewhat large\"\n"
          ],
          "name": "stdout"
        }
      ]
    },
    {
      "cell_type": "markdown",
      "metadata": {
        "id": "8gR9mL3ijK1b"
      },
      "source": [
        "**Task 1**\r\n",
        "\r\n",
        "\r\n",
        "1.   Create a variable that contains a number\r\n",
        "2.   Create some code that assesses the number and returns one of the following statements:\r\n",
        "      1.  The number is larger than or equal to 1000\r\n",
        "      2.    The number is larger than or equal to 500 but less than 1000\r\n",
        "      3.    The number is larger than or equal to 100 but less than 500\r\n",
        "          The number is 14\r\n",
        "      4.    The number is less than 100 and is not 14\r\n",
        "\r\n",
        "3.    Test out your code by redeclaring your variable with values that will get each result and then running your code again.\r\n",
        "            \r\n",
        "\r\n"
      ]
    },
    {
      "cell_type": "code",
      "metadata": {
        "id": "9sRDQ8luj3TQ"
      },
      "source": [
        "#1\r\n",
        "myVar <- 80"
      ],
      "execution_count": null,
      "outputs": []
    },
    {
      "cell_type": "code",
      "metadata": {
        "colab": {
          "base_uri": "https://localhost:8080/"
        },
        "id": "b37-zzA3kAEj",
        "outputId": "bd20bb74-c2a7-44a3-fa76-b85c3105ae6f"
      },
      "source": [
        "#2\r\n",
        "if (myVar >= 1000){\r\n",
        "  print(\"The number is larger than or equal to 1000\")\r\n",
        "} else if (myVar >= 500){\r\n",
        "  print(\"The number is larger than or equal to 500 but less than 1000\")\r\n",
        "} else if(myVar >= 100){\r\n",
        "  print(\"The number is larger than or equal to 100 but less than 500\")\r\n",
        "} else if (myVar == 14){\r\n",
        "  print(\"The number is 14\")\r\n",
        "}else {\r\n",
        "  print (\"The number is less than 100 and is not 14\")\r\n",
        "}\r\n"
      ],
      "execution_count": null,
      "outputs": [
        {
          "output_type": "stream",
          "text": [
            "[1] \"The number is less than 100 and is not 14\"\n"
          ],
          "name": "stdout"
        }
      ]
    },
    {
      "cell_type": "code",
      "metadata": {
        "id": "YPDGj89DkbWR"
      },
      "source": [
        "#3\r\n",
        "myVar <- 141"
      ],
      "execution_count": null,
      "outputs": []
    },
    {
      "cell_type": "code",
      "metadata": {
        "colab": {
          "base_uri": "https://localhost:8080/"
        },
        "id": "UBRLY_r2kjlr",
        "outputId": "407fe671-fc33-45ed-9570-7aed1b3a550c"
      },
      "source": [
        "if (myVar >= 1000){\r\n",
        "  print(\"The number is larger than or equal to 1000\")\r\n",
        "} else if (myVar >= 500){\r\n",
        "  print(\"The number is larger than or equal to 500 but less than 1000\")\r\n",
        "} else if(myVar >= 100){\r\n",
        "  print(\"The number is larger than or equal to 100 but less than 500\")\r\n",
        "} else if (myVar == 14){\r\n",
        "  print(\"The number is 14\")\r\n",
        "}else {\r\n",
        "  print (\"The number is less than 100 and is not 14\")\r\n",
        "}\r\n"
      ],
      "execution_count": null,
      "outputs": [
        {
          "output_type": "stream",
          "text": [
            "[1] \"The number is larger than or equal to 100 but less than 500\"\n"
          ],
          "name": "stdout"
        }
      ]
    },
    {
      "cell_type": "markdown",
      "metadata": {
        "id": "2yEny6vOk0yG"
      },
      "source": [
        "**Demo of loops**"
      ]
    },
    {
      "cell_type": "code",
      "metadata": {
        "colab": {
          "base_uri": "https://localhost:8080/"
        },
        "id": "Qb182i9Akxri",
        "outputId": "fbe765a9-8d53-4e1f-9e36-825321c26d85"
      },
      "source": [
        "myNums <- 1:10\r\n",
        "for (x in myNums){\r\n",
        "  print(x)\r\n",
        "}"
      ],
      "execution_count": null,
      "outputs": [
        {
          "output_type": "stream",
          "text": [
            "[1] 1\n",
            "[1] 2\n",
            "[1] 3\n",
            "[1] 4\n",
            "[1] 5\n",
            "[1] 6\n",
            "[1] 7\n",
            "[1] 8\n",
            "[1] 9\n",
            "[1] 10\n"
          ],
          "name": "stdout"
        }
      ]
    },
    {
      "cell_type": "code",
      "metadata": {
        "colab": {
          "base_uri": "https://localhost:8080/"
        },
        "id": "yUk7CiOnlHac",
        "outputId": "a5208a62-55c2-453e-de3e-b0611ccef8cb"
      },
      "source": [
        "splitnum <- 125964\r\n",
        "Loops <- 0\r\n",
        "\r\n",
        "while (splitnum > 100){\r\n",
        "  Loops <- (Loops+1)\r\n",
        "  splitnum <- (splitnum/3)\r\n",
        "}\r\n",
        "\r\n",
        "print(splitnum)\r\n",
        "print(Loops)"
      ],
      "execution_count": null,
      "outputs": [
        {
          "output_type": "stream",
          "text": [
            "[1] 57.59671\n",
            "[1] 7\n"
          ],
          "name": "stdout"
        }
      ]
    },
    {
      "cell_type": "code",
      "metadata": {
        "colab": {
          "base_uri": "https://localhost:8080/"
        },
        "id": "JyD0psDglUT9",
        "outputId": "5f3b62e3-3d22-41db-dec2-511ef9e2226d"
      },
      "source": [
        "screatNum <-  56\r\n",
        "guess <- 0\r\n",
        "\r\n",
        "repeat {\r\n",
        "  if (guess == screatNum){\r\n",
        "    cat(\"The screat number is\", guess)\r\n",
        "    break\r\n",
        "  } else{\r\n",
        "    guess <- (guess+1)\r\n",
        "  }\r\n",
        "}\r\n",
        "print(screatNum)\r\n",
        "print(guess)"
      ],
      "execution_count": null,
      "outputs": [
        {
          "output_type": "stream",
          "text": [
            "The screat number is 56[1] 56\n",
            "[1] 56\n"
          ],
          "name": "stdout"
        }
      ]
    },
    {
      "cell_type": "markdown",
      "metadata": {
        "id": "eE3OYbmxnhY9"
      },
      "source": [
        "**Task 2**\r\n",
        "\r\n",
        "\r\n",
        "\r\n",
        "1.    Make a variable called numList that contains a list of 10 numbers of your choice using the c() function\r\n",
        "2.   Write a for loop that runs your code from the last set of questions on each number in the list.\r\n",
        "3. Make a numLoops variable that has a value of 0\r\n",
        "4. Make a numBig variable with a value over 100,000\r\n",
        "5. Use a while loop to determine how many times you can subtract 14 from your number before it is smaller than 100\r\n",
        "6. Make a variable called myNum with a value that is at least 6 digits long\r\n",
        "7. Make a variable called loopGuess with a value of 0\r\n",
        "8. Find out how long it would take for a repeat loop to go from 0 to your number\r\n",
        "\r\n",
        "\r\n"
      ]
    },
    {
      "cell_type": "code",
      "metadata": {
        "id": "uUQmWEnUoGHN"
      },
      "source": [
        "#1\r\n",
        "numList <- c(12, 52, 69, 125, 87, 3, 95, 33, 456, 90)"
      ],
      "execution_count": null,
      "outputs": []
    },
    {
      "cell_type": "code",
      "metadata": {
        "colab": {
          "base_uri": "https://localhost:8080/"
        },
        "id": "63l7YMZToLG4",
        "outputId": "ff4dac52-596b-4b3f-dc90-693d25e2ffe3"
      },
      "source": [
        "#2\r\n",
        "for (x in numList){\r\n",
        "  if (x >= 1000){\r\n",
        "    print(\"The number is larger than or equal to 1000\")\r\n",
        "  } else if (x >= 500){\r\n",
        "    print(\"The number is larger than or equal to 500 but less than 1000\")\r\n",
        "  } else if(x >= 100){\r\n",
        "    print(\"The number is larger than or equal to 100 but less than 500\")\r\n",
        "  } else if (x == 14){\r\n",
        "    print(\"The number is 14\")\r\n",
        "  }else {\r\n",
        "    print (\"The number is less than 100 and is not 14\")\r\n",
        "  }\r\n",
        "  \r\n",
        "}\r\n"
      ],
      "execution_count": null,
      "outputs": [
        {
          "output_type": "stream",
          "text": [
            "[1] \"The number is less than 100 and is not 14\"\n",
            "[1] \"The number is less than 100 and is not 14\"\n",
            "[1] \"The number is less than 100 and is not 14\"\n",
            "[1] \"The number is larger than or equal to 100 but less than 500\"\n",
            "[1] \"The number is less than 100 and is not 14\"\n",
            "[1] \"The number is less than 100 and is not 14\"\n",
            "[1] \"The number is less than 100 and is not 14\"\n",
            "[1] \"The number is less than 100 and is not 14\"\n",
            "[1] \"The number is larger than or equal to 100 but less than 500\"\n",
            "[1] \"The number is less than 100 and is not 14\"\n"
          ],
          "name": "stdout"
        }
      ]
    },
    {
      "cell_type": "code",
      "metadata": {
        "colab": {
          "base_uri": "https://localhost:8080/"
        },
        "id": "dnuz7944oYsA",
        "outputId": "ad8a1d3e-1170-4029-ede4-42eb43906dcf"
      },
      "source": [
        "#3,4,5\r\n",
        "numLoops <- 0\r\n",
        "numBig <- 100000\r\n",
        "\r\n",
        "\r\n",
        "\r\n",
        "while (numBig > 100){\r\n",
        "  numLoops <- (numLoops+1)\r\n",
        "  numBig <- (numBig-14)\r\n",
        "}\r\n",
        "print(numLoops)"
      ],
      "execution_count": null,
      "outputs": [
        {
          "output_type": "stream",
          "text": [
            "[1] 7136\n"
          ],
          "name": "stdout"
        }
      ]
    },
    {
      "cell_type": "code",
      "metadata": {
        "id": "BYzmTa6spIoU",
        "colab": {
          "base_uri": "https://localhost:8080/"
        },
        "outputId": "12d57ecc-a6a5-4a30-aacf-893df353bb54"
      },
      "source": [
        "#6,7,8\r\n",
        "myNum <- 120\r\n",
        "loopguess <- 0\r\n",
        "if(1 == 1){\r\n",
        "  startTime <- Sys.time()\r\n",
        "  repeat {\r\n",
        "    if (loopguess == myNum){\r\n",
        "      cat(\"The screat number is\", loopguess, \"with a\")\r\n",
        "      break\r\n",
        "    } else{\r\n",
        "      loopguess <- (loopguess+1)\r\n",
        "    }\r\n",
        "  }\r\n",
        "  endTime <- Sys.time()\r\n",
        "print(endTime - startTime)\r\n",
        "}"
      ],
      "execution_count": 3,
      "outputs": [
        {
          "output_type": "stream",
          "text": [
            "The screat number is 120 with aTime difference of 0.003806353 secs\n"
          ],
          "name": "stdout"
        }
      ]
    },
    {
      "cell_type": "markdown",
      "metadata": {
        "id": "Xruo3q2Zp1K8"
      },
      "source": [
        "**Demo Function**"
      ]
    },
    {
      "cell_type": "code",
      "metadata": {
        "id": "CGGFVJtqp4QP"
      },
      "source": [
        "TwonumberAdd <- function(number1, number2){\r\n",
        "  return(number1+number2)\r\n",
        "}"
      ],
      "execution_count": null,
      "outputs": []
    },
    {
      "cell_type": "code",
      "metadata": {
        "colab": {
          "base_uri": "https://localhost:8080/",
          "height": 34
        },
        "id": "BDDymLeVp8f9",
        "outputId": "14e307e3-f023-44e9-d3a1-c5eeef9729c2"
      },
      "source": [
        "TwonumberAdd(45,55)"
      ],
      "execution_count": null,
      "outputs": [
        {
          "output_type": "display_data",
          "data": {
            "text/plain": [
              "[1] 100"
            ],
            "text/latex": "100",
            "text/markdown": "100",
            "text/html": [
              "100"
            ]
          },
          "metadata": {
            "tags": []
          }
        }
      ]
    },
    {
      "cell_type": "markdown",
      "metadata": {
        "id": "KO_x0hPZqAyL"
      },
      "source": [
        "**Task 3**\r\n",
        "\r\n",
        "\r\n",
        "\r\n",
        "1. Make a variable called myList containing ten numbers between 50 and 150\r\n",
        "2. Make a function that, when given the variable, will tell you how many of the numbers smaller than 100 and how many are equal to or greater than 100.\r\n",
        "3.   Make it so that if there is the same amount of numbers below 100 as there are equal to or above, the result is displayed with “Perfect Balance!” at the end\r\n",
        "\r\n",
        "\r\n"
      ]
    },
    {
      "cell_type": "code",
      "metadata": {
        "id": "yUl64ZiTqUNl"
      },
      "source": [
        "#1\r\n",
        "myList <- c(55, 65, 77, 89, 54, 105, 120, 99, 110, 135)"
      ],
      "execution_count": null,
      "outputs": []
    },
    {
      "cell_type": "code",
      "metadata": {
        "id": "02a3XO4Vqbvc"
      },
      "source": [
        "#2\r\n",
        "bigOrSmall <-  function(varList){\r\n",
        "  smaller <- 0\r\n",
        "  bigger <- 0\r\n",
        "  for (x in varList){\r\n",
        "    if (x >= 100){\r\n",
        "      bigger <- (bigger +1)\r\n",
        "      } else if (x < 100){\r\n",
        "        smaller <- (smaller+1)\r\n",
        "        \r\n",
        "      }\r\n",
        "    }\r\n",
        "  return(cat(bigger,\"numbers were larger than or equal to 100 and \", smaller,\" number were smaller than 100\"))\r\n",
        "  \r\n",
        "}"
      ],
      "execution_count": null,
      "outputs": []
    },
    {
      "cell_type": "code",
      "metadata": {
        "colab": {
          "base_uri": "https://localhost:8080/"
        },
        "id": "y_krbF7Lqz3n",
        "outputId": "188cb6d9-9ec7-439f-c669-31634cfd860a"
      },
      "source": [
        "bigOrSmall(myList)"
      ],
      "execution_count": null,
      "outputs": [
        {
          "output_type": "stream",
          "text": [
            "4 numbers were larger than or equal to 100 and  6  number were smaller than 100"
          ],
          "name": "stdout"
        }
      ]
    },
    {
      "cell_type": "code",
      "metadata": {
        "id": "2QxcWE1DrWW2"
      },
      "source": [
        "#3\r\n",
        "myList <- c(55, 65, 77, 89, 100, 105, 120, 99, 110, 135)\r\n",
        "bigOrSmall <-  function(varList){\r\n",
        "  smaller <- 0\r\n",
        "  bigger <- 0\r\n",
        "  for (x in varList){\r\n",
        "    if (x >= 100){\r\n",
        "      bigger <- (bigger +1)\r\n",
        "      } else if (x < 100){\r\n",
        "        smaller <- (smaller+1)\r\n",
        "        \r\n",
        "      }\r\n",
        "    }\r\n",
        "  if (bigger == smaller){\r\n",
        "    return(\"Perfect balance\")\r\n",
        "  } else{\r\n",
        "    return(cat(bigger,\"numbers were larger than or equal to 100 and \", smaller,\" number were smaller than 100\"))\r\n",
        " }\r\n",
        "  \r\n",
        "  \r\n",
        "}"
      ],
      "execution_count": null,
      "outputs": []
    },
    {
      "cell_type": "code",
      "metadata": {
        "colab": {
          "base_uri": "https://localhost:8080/",
          "height": 34
        },
        "id": "zWeefZBxsAYE",
        "outputId": "cdd805a6-da72-4308-ff23-9c0ba8f4c688"
      },
      "source": [
        "bigOrSmall(myList)"
      ],
      "execution_count": null,
      "outputs": [
        {
          "output_type": "display_data",
          "data": {
            "text/plain": [
              "[1] \"Perfect balance\""
            ],
            "text/latex": "'Perfect balance'",
            "text/markdown": "'Perfect balance'",
            "text/html": [
              "'Perfect balance'"
            ]
          },
          "metadata": {
            "tags": []
          }
        }
      ]
    }
  ]
}